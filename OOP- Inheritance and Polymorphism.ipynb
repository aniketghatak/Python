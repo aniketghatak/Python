{
 "cells": [
  {
   "cell_type": "markdown",
   "metadata": {},
   "source": [
    "## Inheritance"
   ]
  },
  {
   "cell_type": "code",
   "execution_count": 3,
   "metadata": {},
   "outputs": [],
   "source": [
    "class Coaching():\n",
    "    def __init__(self):\n",
    "        print(\"CLASS CREATED\")\n",
    "        \n",
    "    def where_are__you(self):\n",
    "        print(\" I am in the Class\")\n",
    "        \n",
    "    def what_are_u_doing(self):\n",
    "        print(\"I am Studying\")\n",
    "        "
   ]
  },
  {
   "cell_type": "code",
   "execution_count": 10,
   "metadata": {},
   "outputs": [],
   "source": [
    "class tuition(Coaching):\n",
    "    def __init__(self):\n",
    "        Coaching.__init__(self)\n",
    "        print(\"Classes have started\")\n",
    "        \n",
    "        \n",
    "    def where_are__you(self):\n",
    "        print(\" I am in my home\") ## changing the old "
   ]
  },
  {
   "cell_type": "code",
   "execution_count": 12,
   "metadata": {},
   "outputs": [
    {
     "name": "stdout",
     "output_type": "stream",
     "text": [
      "CLASS CREATED\n",
      "Classes have started\n"
     ]
    }
   ],
   "source": [
    "myhomework=tuition()"
   ]
  },
  {
   "cell_type": "code",
   "execution_count": 13,
   "metadata": {},
   "outputs": [
    {
     "name": "stdout",
     "output_type": "stream",
     "text": [
      "I am Studying\n"
     ]
    }
   ],
   "source": [
    "myhomework.what_are_u_doing()"
   ]
  },
  {
   "cell_type": "code",
   "execution_count": 14,
   "metadata": {},
   "outputs": [
    {
     "name": "stdout",
     "output_type": "stream",
     "text": [
      " I am in my home\n"
     ]
    }
   ],
   "source": [
    "myhomework.where_are__you()"
   ]
  },
  {
   "cell_type": "markdown",
   "metadata": {},
   "source": [
    "## Polymorphism"
   ]
  },
  {
   "cell_type": "code",
   "execution_count": 20,
   "metadata": {},
   "outputs": [],
   "source": [
    "class Student():\n",
    "    \n",
    "    def __init__(self,name):\n",
    "        self.name=name\n",
    "    def speak(self):\n",
    "        return self.name + \" is the name of the student\"\n",
    "    "
   ]
  },
  {
   "cell_type": "code",
   "execution_count": 21,
   "metadata": {},
   "outputs": [],
   "source": [
    "class Teacher():\n",
    "    \n",
    "    def __init__(self,name):\n",
    "        self.name=name\n",
    "    def speak(self):\n",
    "        return self.name + \" is the name of the teacher\""
   ]
  },
  {
   "cell_type": "code",
   "execution_count": 22,
   "metadata": {},
   "outputs": [],
   "source": [
    "John=Student(\"John\")\n",
    "Nick=Teacher(\"Nick\")\n"
   ]
  },
  {
   "cell_type": "code",
   "execution_count": 23,
   "metadata": {},
   "outputs": [
    {
     "name": "stdout",
     "output_type": "stream",
     "text": [
      "John is the name of the student\n",
      "Nick is the name of the teacher\n"
     ]
    }
   ],
   "source": [
    "print(John.speak())\n",
    "print(Nick.speak())"
   ]
  },
  {
   "cell_type": "code",
   "execution_count": 25,
   "metadata": {},
   "outputs": [
    {
     "name": "stdout",
     "output_type": "stream",
     "text": [
      "<class '__main__.Student'>\n",
      "John is the name of the student\n",
      "<class '__main__.Student'>\n",
      "Nick is the name of the teacher\n"
     ]
    }
   ],
   "source": [
    "for edu in [John,Nick]:\n",
    "    print(type(John))\n",
    "    print(edu.speak())"
   ]
  },
  {
   "cell_type": "code",
   "execution_count": 26,
   "metadata": {},
   "outputs": [],
   "source": [
    "def edu_speak(edu):\n",
    "    print(edu.speak())"
   ]
  },
  {
   "cell_type": "code",
   "execution_count": 27,
   "metadata": {},
   "outputs": [
    {
     "name": "stdout",
     "output_type": "stream",
     "text": [
      "John is the name of the student\n"
     ]
    }
   ],
   "source": [
    "edu_speak(John)"
   ]
  },
  {
   "cell_type": "code",
   "execution_count": 28,
   "metadata": {},
   "outputs": [
    {
     "name": "stdout",
     "output_type": "stream",
     "text": [
      "Nick is the name of the teacher\n"
     ]
    }
   ],
   "source": [
    "edu_speak(Nick)"
   ]
  },
  {
   "cell_type": "code",
   "execution_count": null,
   "metadata": {},
   "outputs": [],
   "source": []
  }
 ],
 "metadata": {
  "kernelspec": {
   "display_name": "Python 3",
   "language": "python",
   "name": "python3"
  },
  "language_info": {
   "codemirror_mode": {
    "name": "ipython",
    "version": 3
   },
   "file_extension": ".py",
   "mimetype": "text/x-python",
   "name": "python",
   "nbconvert_exporter": "python",
   "pygments_lexer": "ipython3",
   "version": "3.8.5"
  }
 },
 "nbformat": 4,
 "nbformat_minor": 4
}
